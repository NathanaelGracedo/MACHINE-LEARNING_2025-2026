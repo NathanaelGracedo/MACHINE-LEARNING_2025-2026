{
 "cells": [
  {
   "cell_type": "markdown",
   "id": "807ae417",
   "metadata": {},
   "source": [
    "# Langkah 0 - Persiapan"
   ]
  },
  {
   "cell_type": "code",
   "execution_count": 1,
   "id": "9b9b7a70",
   "metadata": {},
   "outputs": [],
   "source": [
    "import pandas as pd\n",
    "from sklearn.preprocessing import LabelEncoder, StandardScaler\n",
    "\n",
    "# 1. Load Data\n",
    "df = pd.read_csv(\"wbc.csv\")"
   ]
  },
  {
   "cell_type": "markdown",
   "id": "3f28f2a8",
   "metadata": {},
   "source": [
    "# Memisahkan variabel yang dapat digunakan dan yang tidak dapat digunakan"
   ]
  },
  {
   "cell_type": "code",
   "execution_count": 2,
   "id": "77d71029",
   "metadata": {},
   "outputs": [
    {
     "name": "stdout",
     "output_type": "stream",
     "text": [
      "Variabel yang digunakan: ['diagnosis', 'radius_mean', 'texture_mean', 'perimeter_mean', 'area_mean', 'smoothness_mean', 'compactness_mean', 'concavity_mean', 'concave points_mean', 'symmetry_mean', 'fractal_dimension_mean', 'radius_se', 'texture_se', 'perimeter_se', 'area_se', 'smoothness_se', 'compactness_se', 'concavity_se', 'concave points_se', 'symmetry_se', 'fractal_dimension_se', 'radius_worst', 'texture_worst', 'perimeter_worst', 'area_worst', 'smoothness_worst', 'compactness_worst', 'concavity_worst', 'concave points_worst', 'symmetry_worst', 'fractal_dimension_worst', 'Unnamed: 32']\n",
      "Variabel yang tidak digunakan: ['id']\n"
     ]
    }
   ],
   "source": [
    "used_columns = [col for col in df.columns if col not in ['id']]\n",
    "unused_columns = ['id']\n",
    "\n",
    "print(\"Variabel yang digunakan:\", used_columns)\n",
    "print(\"Variabel yang tidak digunakan:\", unused_columns)"
   ]
  },
  {
   "cell_type": "markdown",
   "id": "d1c4280d",
   "metadata": {},
   "source": [
    "# 2. Encoding kolom diagnosis"
   ]
  },
  {
   "cell_type": "code",
   "execution_count": 3,
   "id": "2002079e",
   "metadata": {},
   "outputs": [],
   "source": [
    "le = LabelEncoder()\n",
    "df['diagnosis_encoded'] = le.fit_transform(df['diagnosis'])"
   ]
  },
  {
   "cell_type": "markdown",
   "id": "48961fcb",
   "metadata": {},
   "source": [
    "# 3. Standardisasi semua fitur numerik"
   ]
  },
  {
   "cell_type": "code",
   "execution_count": null,
   "id": "9a150433",
   "metadata": {},
   "outputs": [
    {
     "name": "stdout",
     "output_type": "stream",
     "text": [
      "Contoh hasil encoding dan standardisasi:\n",
      "  diagnosis  diagnosis_encoded  radius_mean  texture_mean  perimeter_mean  \\\n",
      "0         M                  1     1.097064     -2.073335        1.269934   \n",
      "1         M                  1     1.829821     -0.353632        1.685955   \n",
      "2         M                  1     1.579888      0.456187        1.566503   \n",
      "3         M                  1    -0.768909      0.253732       -0.592687   \n",
      "4         M                  1     1.750297     -1.151816        1.776573   \n",
      "\n",
      "   area_mean  smoothness_mean  compactness_mean  concavity_mean  \\\n",
      "0   0.984375         1.568466          3.283515        2.652874   \n",
      "1   1.908708        -0.826962         -0.487072       -0.023846   \n",
      "2   1.558884         0.942210          1.052926        1.363478   \n",
      "3  -0.764464         3.283553          3.402909        1.915897   \n",
      "4   1.826229         0.280372          0.539340        1.371011   \n",
      "\n",
      "   concave points_mean  ...  texture_worst  perimeter_worst  area_worst  \\\n",
      "0             2.532475  ...      -1.359293         2.303601    2.001237   \n",
      "1             0.548144  ...      -0.369203         1.535126    1.890489   \n",
      "2             2.037231  ...      -0.023974         1.347475    1.456285   \n",
      "3             1.451707  ...       0.133984        -0.249939   -0.550021   \n",
      "4             1.428493  ...      -1.466770         1.338539    1.220724   \n",
      "\n",
      "   smoothness_worst  compactness_worst  concavity_worst  concave points_worst  \\\n",
      "0          1.307686           2.616665         2.109526              2.296076   \n",
      "1         -0.375612          -0.430444        -0.146749              1.087084   \n",
      "2          0.527407           1.082932         0.854974              1.955000   \n",
      "3          3.394275           3.893397         1.989588              2.175786   \n",
      "4          0.220556          -0.313395         0.613179              0.729259   \n",
      "\n",
      "   symmetry_worst  fractal_dimension_worst  Unnamed: 32  \n",
      "0        2.750622                 1.937015          NaN  \n",
      "1       -0.243890                 0.281190          NaN  \n",
      "2        1.152255                 0.201391          NaN  \n",
      "3        6.046041                 4.935010          NaN  \n",
      "4       -0.868353                -0.397100          NaN  \n",
      "\n",
      "[5 rows x 33 columns]\n"
     ]
    },
    {
     "name": "stderr",
     "output_type": "stream",
     "text": [
      "c:\\Users\\natha\\anaconda3\\Lib\\site-packages\\sklearn\\utils\\extmath.py:1101: RuntimeWarning: invalid value encountered in divide\n",
      "  updated_mean = (last_sum + new_sum) / updated_sample_count\n",
      "c:\\Users\\natha\\anaconda3\\Lib\\site-packages\\sklearn\\utils\\extmath.py:1106: RuntimeWarning: invalid value encountered in divide\n",
      "  T = new_sum / new_sample_count\n",
      "c:\\Users\\natha\\anaconda3\\Lib\\site-packages\\sklearn\\utils\\extmath.py:1126: RuntimeWarning: invalid value encountered in divide\n",
      "  new_unnormalized_variance -= correction**2 / new_sample_count\n"
     ]
    }
   ],
   "source": [
    "numerical_cols = [col for col in used_columns if col != 'diagnosis']\n",
    "\n",
    "scaler = StandardScaler()\n",
    "df_std = df.copy()\n",
    "df_std[numerical_cols] = scaler.fit_transform(df[numerical_cols])\n",
    "\n",
    "# Tampilkan hasil\n",
    "print(\"Contoh hasil encoding dan standardisasi:\")\n",
    "print(df_std[['diagnosis', 'diagnosis_encoded'] + numerical_cols].head())"
   ]
  }
 ],
 "metadata": {
  "kernelspec": {
   "display_name": "base",
   "language": "python",
   "name": "python3"
  },
  "language_info": {
   "codemirror_mode": {
    "name": "ipython",
    "version": 3
   },
   "file_extension": ".py",
   "mimetype": "text/x-python",
   "name": "python",
   "nbconvert_exporter": "python",
   "pygments_lexer": "ipython3",
   "version": "3.13.5"
  }
 },
 "nbformat": 4,
 "nbformat_minor": 5
}
