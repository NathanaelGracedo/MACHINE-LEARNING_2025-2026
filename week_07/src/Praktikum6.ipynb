{
 "cells": [
  {
   "cell_type": "code",
   "execution_count": 2,
   "id": "958d4945",
   "metadata": {},
   "outputs": [],
   "source": [
    "import pandas as pd\n",
    "import numpy as np\n",
    "import time\n",
    "import faiss\n",
    "from annoy import AnnoyIndex\n",
    "import hnswlib\n",
    "from sklearn.neighbors import NearestNeighbors\n",
    "from sklearn.preprocessing import StandardScaler"
   ]
  },
  {
   "cell_type": "code",
   "execution_count": 4,
   "id": "7f9f6f2e",
   "metadata": {},
   "outputs": [],
   "source": [
    "# -------------------------------\n",
    "# Load dataset\n",
    "# -------------------------------\n",
    "df = pd.read_csv('E:\\Coolyeah\\Sem5\\songs_with_attributes_and_lyrics.csv')"
   ]
  },
  {
   "cell_type": "code",
   "execution_count": 5,
   "id": "c8ad2013",
   "metadata": {},
   "outputs": [
    {
     "data": {
      "text/html": [
       "<div>\n",
       "<style scoped>\n",
       "    .dataframe tbody tr th:only-of-type {\n",
       "        vertical-align: middle;\n",
       "    }\n",
       "\n",
       "    .dataframe tbody tr th {\n",
       "        vertical-align: top;\n",
       "    }\n",
       "\n",
       "    .dataframe thead th {\n",
       "        text-align: right;\n",
       "    }\n",
       "</style>\n",
       "<table border=\"1\" class=\"dataframe\">\n",
       "  <thead>\n",
       "    <tr style=\"text-align: right;\">\n",
       "      <th></th>\n",
       "      <th>id</th>\n",
       "      <th>name</th>\n",
       "      <th>album_name</th>\n",
       "      <th>artists</th>\n",
       "      <th>danceability</th>\n",
       "      <th>energy</th>\n",
       "      <th>key</th>\n",
       "      <th>loudness</th>\n",
       "      <th>mode</th>\n",
       "      <th>speechiness</th>\n",
       "      <th>acousticness</th>\n",
       "      <th>instrumentalness</th>\n",
       "      <th>liveness</th>\n",
       "      <th>valence</th>\n",
       "      <th>tempo</th>\n",
       "      <th>duration_ms</th>\n",
       "      <th>lyrics</th>\n",
       "    </tr>\n",
       "  </thead>\n",
       "  <tbody>\n",
       "    <tr>\n",
       "      <th>0</th>\n",
       "      <td>0Prct5TDjAnEgIqbxcldY9</td>\n",
       "      <td>!</td>\n",
       "      <td>UNDEN!ABLE</td>\n",
       "      <td>['HELLYEAH']</td>\n",
       "      <td>0.415</td>\n",
       "      <td>0.6050</td>\n",
       "      <td>7</td>\n",
       "      <td>-11.157</td>\n",
       "      <td>1</td>\n",
       "      <td>0.0575</td>\n",
       "      <td>0.00116</td>\n",
       "      <td>0.838000</td>\n",
       "      <td>0.4710</td>\n",
       "      <td>0.193</td>\n",
       "      <td>100.059</td>\n",
       "      <td>79500.0</td>\n",
       "      <td>He said he came from Jamaica,\\n he owned a cou...</td>\n",
       "    </tr>\n",
       "    <tr>\n",
       "      <th>1</th>\n",
       "      <td>2ASl4wirkeYm3OWZxXKYuq</td>\n",
       "      <td>!!</td>\n",
       "      <td>NaN</td>\n",
       "      <td>Yxngxr1</td>\n",
       "      <td>0.788</td>\n",
       "      <td>0.6480</td>\n",
       "      <td>7</td>\n",
       "      <td>-9.135</td>\n",
       "      <td>0</td>\n",
       "      <td>0.3150</td>\n",
       "      <td>0.90000</td>\n",
       "      <td>0.000000</td>\n",
       "      <td>0.1760</td>\n",
       "      <td>0.287</td>\n",
       "      <td>79.998</td>\n",
       "      <td>114000.0</td>\n",
       "      <td>Fucked a bitch, now she running with my kids\\n...</td>\n",
       "    </tr>\n",
       "    <tr>\n",
       "      <th>2</th>\n",
       "      <td>69lcggVPmOr9cvPx9kLiiN</td>\n",
       "      <td>!!! - Interlude</td>\n",
       "      <td>Where I Belong EP</td>\n",
       "      <td>['Glowie']</td>\n",
       "      <td>0.000</td>\n",
       "      <td>0.0354</td>\n",
       "      <td>7</td>\n",
       "      <td>-20.151</td>\n",
       "      <td>0</td>\n",
       "      <td>0.0000</td>\n",
       "      <td>0.90800</td>\n",
       "      <td>0.000000</td>\n",
       "      <td>0.4790</td>\n",
       "      <td>0.000</td>\n",
       "      <td>0.000</td>\n",
       "      <td>11413.0</td>\n",
       "      <td>Oh, my God, I'm going crazy\\n</td>\n",
       "    </tr>\n",
       "    <tr>\n",
       "      <th>3</th>\n",
       "      <td>4U7dlZjg1s9pjdppqZy0fm</td>\n",
       "      <td>!!De Repente!!</td>\n",
       "      <td>Un Palo Al Agua (20 Grandes Canciones)</td>\n",
       "      <td>['Rosendo']</td>\n",
       "      <td>0.657</td>\n",
       "      <td>0.8820</td>\n",
       "      <td>5</td>\n",
       "      <td>-6.340</td>\n",
       "      <td>1</td>\n",
       "      <td>0.0385</td>\n",
       "      <td>0.00740</td>\n",
       "      <td>0.000013</td>\n",
       "      <td>0.0474</td>\n",
       "      <td>0.939</td>\n",
       "      <td>123.588</td>\n",
       "      <td>198173.0</td>\n",
       "      <td>Continuamente se extraña la gente si no puede ...</td>\n",
       "    </tr>\n",
       "    <tr>\n",
       "      <th>4</th>\n",
       "      <td>4v1IBp3Y3rpkWmWzIlkYju</td>\n",
       "      <td>!!De Repente!!</td>\n",
       "      <td>Fuera De Lugar</td>\n",
       "      <td>['Rosendo']</td>\n",
       "      <td>0.659</td>\n",
       "      <td>0.8930</td>\n",
       "      <td>5</td>\n",
       "      <td>-8.531</td>\n",
       "      <td>1</td>\n",
       "      <td>0.0411</td>\n",
       "      <td>0.09220</td>\n",
       "      <td>0.000019</td>\n",
       "      <td>0.0534</td>\n",
       "      <td>0.951</td>\n",
       "      <td>123.600</td>\n",
       "      <td>199827.0</td>\n",
       "      <td>Continuamente se extraña la gente si no puede ...</td>\n",
       "    </tr>\n",
       "  </tbody>\n",
       "</table>\n",
       "</div>"
      ],
      "text/plain": [
       "                       id             name  \\\n",
       "0  0Prct5TDjAnEgIqbxcldY9                !   \n",
       "1  2ASl4wirkeYm3OWZxXKYuq               !!   \n",
       "2  69lcggVPmOr9cvPx9kLiiN  !!! - Interlude   \n",
       "3  4U7dlZjg1s9pjdppqZy0fm   !!De Repente!!   \n",
       "4  4v1IBp3Y3rpkWmWzIlkYju   !!De Repente!!   \n",
       "\n",
       "                               album_name       artists  danceability  energy  \\\n",
       "0                              UNDEN!ABLE  ['HELLYEAH']         0.415  0.6050   \n",
       "1                                     NaN       Yxngxr1         0.788  0.6480   \n",
       "2                       Where I Belong EP    ['Glowie']         0.000  0.0354   \n",
       "3  Un Palo Al Agua (20 Grandes Canciones)   ['Rosendo']         0.657  0.8820   \n",
       "4                          Fuera De Lugar   ['Rosendo']         0.659  0.8930   \n",
       "\n",
       "  key  loudness mode  speechiness  acousticness  instrumentalness  liveness  \\\n",
       "0   7   -11.157    1       0.0575       0.00116          0.838000    0.4710   \n",
       "1   7    -9.135    0       0.3150       0.90000          0.000000    0.1760   \n",
       "2   7   -20.151    0       0.0000       0.90800          0.000000    0.4790   \n",
       "3   5    -6.340    1       0.0385       0.00740          0.000013    0.0474   \n",
       "4   5    -8.531    1       0.0411       0.09220          0.000019    0.0534   \n",
       "\n",
       "   valence    tempo  duration_ms  \\\n",
       "0    0.193  100.059      79500.0   \n",
       "1    0.287   79.998     114000.0   \n",
       "2    0.000    0.000      11413.0   \n",
       "3    0.939  123.588     198173.0   \n",
       "4    0.951  123.600     199827.0   \n",
       "\n",
       "                                              lyrics  \n",
       "0  He said he came from Jamaica,\\n he owned a cou...  \n",
       "1  Fucked a bitch, now she running with my kids\\n...  \n",
       "2                     Oh, my God, I'm going crazy\\n   \n",
       "3  Continuamente se extraña la gente si no puede ...  \n",
       "4  Continuamente se extraña la gente si no puede ...  "
      ]
     },
     "execution_count": 5,
     "metadata": {},
     "output_type": "execute_result"
    }
   ],
   "source": [
    "df.head()"
   ]
  },
  {
   "cell_type": "code",
   "execution_count": 6,
   "id": "a78590e0",
   "metadata": {},
   "outputs": [],
   "source": [
    "features = ['danceability', 'energy', 'loudness', 'speechiness', \n",
    "            'acousticness', 'instrumentalness', 'liveness', 'valence', 'tempo']\n",
    "X = df[features].values"
   ]
  },
  {
   "cell_type": "code",
   "execution_count": 7,
   "id": "14ee051f",
   "metadata": {},
   "outputs": [],
   "source": [
    "# Standarisasi fitur\n",
    "scaler = StandardScaler()\n",
    "X_scaled = scaler.fit_transform(X)\n",
    "\n",
    "k = 10  # jumlah nearest neighbors"
   ]
  },
  {
   "cell_type": "code",
   "execution_count": 8,
   "id": "65aa3e4f",
   "metadata": {},
   "outputs": [
    {
     "name": "stdout",
     "output_type": "stream",
     "text": [
      "Exact NN done in 5099.878 s\n"
     ]
    }
   ],
   "source": [
    "\n",
    "# -------------------------------\n",
    "# Exact Nearest Neighbor (brute-force)\n",
    "# -------------------------------\n",
    "start = time.time()\n",
    "nn = NearestNeighbors(n_neighbors=k, algorithm='brute', metric='euclidean')\n",
    "nn.fit(X_scaled)\n",
    "dist_exact, idx_exact = nn.kneighbors(X_scaled)\n",
    "time_exact = time.time() - start\n",
    "print(f\"Exact NN done in {time_exact:.3f} s\")"
   ]
  },
  {
   "cell_type": "code",
   "execution_count": 9,
   "id": "cc6b068a",
   "metadata": {},
   "outputs": [
    {
     "name": "stdout",
     "output_type": "stream",
     "text": [
      "Annoy done in 123.077 s\n"
     ]
    }
   ],
   "source": [
    "# -------------------------------\n",
    "# Annoy\n",
    "# -------------------------------\n",
    "start = time.time()\n",
    "f = X_scaled.shape[1]\n",
    "index_annoy = AnnoyIndex(f, 'euclidean')\n",
    "for i, v in enumerate(X_scaled):\n",
    "    index_annoy.add_item(i, v)\n",
    "index_annoy.build(10)\n",
    "idx_annoy = [index_annoy.get_nns_by_vector(v, k) for v in X_scaled]\n",
    "time_annoy = time.time() - start\n",
    "print(f\"Annoy done in {time_annoy:.3f} s\")"
   ]
  },
  {
   "cell_type": "code",
   "execution_count": 10,
   "id": "7bd06f45",
   "metadata": {},
   "outputs": [
    {
     "name": "stdout",
     "output_type": "stream",
     "text": [
      "HNSW done in 217.370 s\n"
     ]
    }
   ],
   "source": [
    "# -------------------------------\n",
    "# HNSW\n",
    "# -------------------------------\n",
    "start = time.time()\n",
    "p_hnsw = hnswlib.Index(space='l2', dim=X_scaled.shape[1])\n",
    "p_hnsw.init_index(max_elements=X_scaled.shape[0], ef_construction=200, M=16)\n",
    "p_hnsw.add_items(X_scaled)\n",
    "p_hnsw.set_ef(200)\n",
    "idx_hnsw, dist_hnsw = p_hnsw.knn_query(X_scaled, k=k)\n",
    "time_hnsw = time.time() - start\n",
    "print(f\"HNSW done in {time_hnsw:.3f} s\")"
   ]
  },
  {
   "cell_type": "code",
   "execution_count": 11,
   "id": "e3b6330c",
   "metadata": {},
   "outputs": [
    {
     "name": "stdout",
     "output_type": "stream",
     "text": [
      "FAISS IVF done in 795.472 s\n"
     ]
    }
   ],
   "source": [
    "# -------------------------------\n",
    "# FAISS IVF\n",
    "# -------------------------------\n",
    "start = time.time()\n",
    "quantizer = faiss.IndexFlatL2(X_scaled.shape[1])\n",
    "index_faiss = faiss.IndexIVFFlat(quantizer, X_scaled.shape[1], 100, faiss.METRIC_L2)\n",
    "index_faiss.train(X_scaled)\n",
    "index_faiss.add(X_scaled)\n",
    "index_faiss.nprobe = 10\n",
    "dist_faiss, idx_faiss = index_faiss.search(X_scaled, k)\n",
    "time_faiss = time.time() - start\n",
    "print(f\"FAISS IVF done in {time_faiss:.3f} s\")"
   ]
  }
 ],
 "metadata": {
  "kernelspec": {
   "display_name": "base",
   "language": "python",
   "name": "python3"
  },
  "language_info": {
   "codemirror_mode": {
    "name": "ipython",
    "version": 3
   },
   "file_extension": ".py",
   "mimetype": "text/x-python",
   "name": "python",
   "nbconvert_exporter": "python",
   "pygments_lexer": "ipython3",
   "version": "3.13.5"
  }
 },
 "nbformat": 4,
 "nbformat_minor": 5
}
